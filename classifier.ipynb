{
 "cells": [
  {
   "cell_type": "markdown",
   "id": "cbb2b9e6",
   "metadata": {},
   "source": [
    "MBTI Classifier"
   ]
  },
  {
   "cell_type": "markdown",
   "id": "089ecb0c",
   "metadata": {},
   "source": [
    "Step 0: Setup"
   ]
  },
  {
   "cell_type": "code",
   "execution_count": null,
   "id": "9e7457d8",
   "metadata": {},
   "outputs": [],
   "source": [
    "\n",
    "%pip install -q pandas scikit-learn numpy matplotlib wordcloud joblib seaborn\n",
    "# Optional (for the Streamlit app scaffold later):\n",
    "%pip install -q streamlit"
   ]
  },
  {
   "cell_type": "markdown",
   "id": "7e7f77bf",
   "metadata": {},
   "source": [
    "Step 1: Imports"
   ]
  },
  {
   "cell_type": "code",
   "execution_count": null,
   "id": "18175bff",
   "metadata": {},
   "outputs": [],
   "source": [
    "import os, re, json, math, textwrap, random\n",
    "import numpy as np\n",
    "import pandas as pd\n",
    "import matplotlib.pyplot as plt\n",
    "\n",
    "from sklearn.feature_extraction.text import TfidfVectorizer\n",
    "from sklearn.linear_model import LogisticRegression\n",
    "from sklearn.model_selection import train_test_split\n",
    "from sklearn.metrics import f1_score, classification_report, confusion_matrix\n",
    "from sklearn.pipeline import Pipeline\n",
    "from sklearn.preprocessing import LabelEncoder\n",
    "from joblib import dump, load\n",
    "\n",
    "RANDOM_STATE = 42\n",
    "np.random.seed(RANDOM_STATE)\n"
   ]
  }
 ],
 "metadata": {
  "kernelspec": {
   "display_name": "Python 3",
   "language": "python",
   "name": "python3"
  },
  "language_info": {
   "name": "python",
   "version": "3.11.4"
  }
 },
 "nbformat": 4,
 "nbformat_minor": 5
}
