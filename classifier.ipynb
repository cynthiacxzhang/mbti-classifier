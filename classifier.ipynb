{
 "cells": [
  {
   "cell_type": "markdown",
   "id": "cbb2b9e6",
   "metadata": {},
   "source": [
    "# MBTI Classifier"
   ]
  },
  {
   "cell_type": "markdown",
   "id": "089ecb0c",
   "metadata": {},
   "source": [
    "**0: Setup**"
   ]
  },
  {
   "cell_type": "code",
   "execution_count": null,
   "id": "9e7457d8",
   "metadata": {},
   "outputs": [],
   "source": [
    "\n",
    "%pip install -q pandas scikit-learn numpy matplotlib wordcloud joblib seaborn\n",
    "# Optional (for the Streamlit app scaffold later):\n",
    "%pip install -q streamlit"
   ]
  },
  {
   "cell_type": "markdown",
   "id": "7e7f77bf",
   "metadata": {},
   "source": [
    "**Step 1: Imports**"
   ]
  },
  {
   "cell_type": "code",
   "execution_count": null,
   "id": "18175bff",
   "metadata": {},
   "outputs": [],
   "source": [
    "import os, re, json, math, textwrap, random\n",
    "import numpy as np\n",
    "import pandas as pd\n",
    "import matplotlib.pyplot as plt\n",
    "\n",
    "from sklearn.feature_extraction.text import TfidfVectorizer\n",
    "from sklearn.linear_model import LogisticRegression\n",
    "from sklearn.model_selection import train_test_split\n",
    "from sklearn.metrics import f1_score, classification_report, confusion_matrix\n",
    "from sklearn.pipeline import Pipeline\n",
    "from sklearn.preprocessing import LabelEncoder\n",
    "from joblib import dump, load\n",
    "\n",
    "RANDOM_STATE = 42\n",
    "np.random.seed(RANDOM_STATE)"
   ]
  },
  {
   "cell_type": "markdown",
   "id": "1511d329",
   "metadata": {},
   "source": [
    "**2: Data Loading**\n",
    "\n",
    "Data is imported from Kaggle: mbti.csv\n",
    "\n",
    "- type: MBTI string (e.g., `INTJ`)\n",
    "- posts: long text with posts concatenated"
   ]
  },
  {
   "cell_type": "code",
   "execution_count": null,
   "id": "8b0158dd",
   "metadata": {},
   "outputs": [],
   "source": [
    "# loading MBTI.csv from local (used for training)\n",
    "\n",
    "data_path = \"mbti_1.csv\"  # use local path\n",
    "\n",
    "assert os.path.exists(data_path), f\"CSV not found at {data_path}. Put your dataset there or update the path.\"\n",
    "\n",
    "df = pd.read_csv(data_path)\n",
    "# normalilze column names\n",
    "df.columns = [c.strip().lower() for c in df.columns]\n",
    "\n",
    "# handle two common schemas\n",
    "if 'posts' in df.columns:\n",
    "    df.rename(columns={'posts':'text'}, inplace=True)\n",
    "elif 'text' not in df.columns:\n",
    "    raise ValueError(\"Dataset must have a 'text' column (or 'posts' which will be renamed to 'text').\")\n",
    "\n",
    "if 'type' not in df.columns:\n",
    "    raise ValueError(\"Dataset must include MBTI label in a 'type' column for this skeleton.\")\n",
    "\n",
    "df = df[['type','text']].dropna().copy()\n",
    "df['type'] = df['type'].str.upper().str.strip()"
   ]
  },
  {
   "cell_type": "code",
   "execution_count": null,
   "id": "6f882fbd",
   "metadata": {},
   "outputs": [],
   "source": [
    "# checking\n",
    "\n",
    "print(df.head(2))\n",
    "print(df.type.value_counts().head())\n",
    "print(\"Rows:\", len(df))"
   ]
  },
  {
   "cell_type": "markdown",
   "id": "d47afb09",
   "metadata": {},
   "source": [
    "**3: Data Analysis**\n",
    "\n",
    "Very brief MBTI distribution analysis"
   ]
  },
  {
   "cell_type": "code",
   "execution_count": null,
   "id": "2af23593",
   "metadata": {},
   "outputs": [],
   "source": [
    "\n",
    "# distrubition of MBTI types\n",
    "type_counts = df['type'].value_counts().sort_values(ascending=False)\n",
    "ax = type_counts.plot(kind='bar', figsize=(10,3))\n",
    "ax.set_title(\"MBTI type distribution\")\n",
    "ax.set_ylabel(\"Count\")\n",
    "plt.show()\n",
    "\n",
    "# histogram for text length\n",
    "df['len'] = df['text'].astype(str).apply(len)\n",
    "ax = df['len'].plot(kind='hist', bins=40, figsize=(10,3))\n",
    "ax.set_title(\"Text length distribution\")\n",
    "ax.set_xlabel(\"Characters\")\n",
    "plt.show()\n"
   ]
  }
 ],
 "metadata": {
  "kernelspec": {
   "display_name": "Python 3",
   "language": "python",
   "name": "python3"
  },
  "language_info": {
   "name": "python",
   "version": "3.11.4"
  }
 },
 "nbformat": 4,
 "nbformat_minor": 5
}
