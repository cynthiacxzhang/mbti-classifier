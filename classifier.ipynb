{
 "cells": [
  {
   "cell_type": "markdown",
   "id": "cbb2b9e6",
   "metadata": {},
   "source": [
    "MBTI Classifier"
   ]
  },
  {
   "cell_type": "code",
   "execution_count": null,
   "id": "9e7457d8",
   "metadata": {},
   "outputs": [],
   "source": [
    "\n",
    "%pip install -q pandas scikit-learn numpy matplotlib wordcloud joblib seaborn\n",
    "# Optional (for the Streamlit app scaffold later):\n",
    "%pip install -q streamlit"
   ]
  }
 ],
 "metadata": {
  "kernelspec": {
   "display_name": "Python 3",
   "language": "python",
   "name": "python3"
  },
  "language_info": {
   "name": "python",
   "version": "3.11.4"
  }
 },
 "nbformat": 4,
 "nbformat_minor": 5
}
